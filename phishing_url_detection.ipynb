{
  "nbformat": 4,
  "nbformat_minor": 0,
  "metadata": {
    "colab": {
      "provenance": [],
      "collapsed_sections": [
        "VFY7ET1aJh2q",
        "Iwe3dk9oI5_z",
        "wLVw89lL9bqi",
        "WwnO8XiS-LTY",
        "elg_cmZ3-43b",
        "1S0sJorFKZOj"
      ],
      "authorship_tag": "ABX9TyM0zjA49vsydjVdYWP1Jg56",
      "include_colab_link": true
    },
    "kernelspec": {
      "name": "python3",
      "display_name": "Python 3"
    },
    "language_info": {
      "name": "python"
    }
  },
  "cells": [
    {
      "cell_type": "markdown",
      "metadata": {
        "id": "view-in-github",
        "colab_type": "text"
      },
      "source": [
        "<a href=\"https://colab.research.google.com/github/kunley247/phishing-url-detection/blob/main/phishing_url_detection.ipynb\" target=\"_parent\"><img src=\"https://colab.research.google.com/assets/colab-badge.svg\" alt=\"Open In Colab\"/></a>"
      ]
    },
    {
      "cell_type": "markdown",
      "source": [
        "# Modules Importation"
      ],
      "metadata": {
        "id": "WZtJeZAuIlQY"
      }
    },
    {
      "cell_type": "code",
      "execution_count": 2,
      "metadata": {
        "id": "OrS5xAJm2oIV"
      },
      "outputs": [],
      "source": [
        "import pandas as pd\n",
        "from IPython.display import display\n",
        "import matplotlib.pyplot as plt\n",
        "import seaborn as sns"
      ]
    },
    {
      "cell_type": "markdown",
      "source": [
        "# Dataset Importation"
      ],
      "metadata": {
        "id": "oPCTG1JHIxG8"
      }
    },
    {
      "cell_type": "code",
      "source": [
        "# Load the dataset\n",
        "file_path = 'PhiUSIIL_Phishing_URL_Dataset.csv'\n",
        "df = pd.read_csv(file_path)\n",
        "\n",
        "# Display the first few rows and summary information of the dataset\n",
        "df.head()"
      ],
      "metadata": {
        "colab": {
          "base_uri": "https://localhost:8080/",
          "height": 356
        },
        "id": "o-Wt950936lu",
        "outputId": "bd55b689-cf3f-405e-c6fb-e37f9d361d32",
        "collapsed": true
      },
      "execution_count": 3,
      "outputs": [
        {
          "output_type": "error",
          "ename": "FileNotFoundError",
          "evalue": "[Errno 2] No such file or directory: 'PhiUSIIL_Phishing_URL_Dataset.csv'",
          "traceback": [
            "\u001b[0;31m---------------------------------------------------------------------------\u001b[0m",
            "\u001b[0;31mFileNotFoundError\u001b[0m                         Traceback (most recent call last)",
            "\u001b[0;32m<ipython-input-3-85d5938cbf68>\u001b[0m in \u001b[0;36m<cell line: 3>\u001b[0;34m()\u001b[0m\n\u001b[1;32m      1\u001b[0m \u001b[0;31m# Load the dataset\u001b[0m\u001b[0;34m\u001b[0m\u001b[0;34m\u001b[0m\u001b[0m\n\u001b[1;32m      2\u001b[0m \u001b[0mfile_path\u001b[0m \u001b[0;34m=\u001b[0m \u001b[0;34m'PhiUSIIL_Phishing_URL_Dataset.csv'\u001b[0m\u001b[0;34m\u001b[0m\u001b[0;34m\u001b[0m\u001b[0m\n\u001b[0;32m----> 3\u001b[0;31m \u001b[0mdf\u001b[0m \u001b[0;34m=\u001b[0m \u001b[0mpd\u001b[0m\u001b[0;34m.\u001b[0m\u001b[0mread_csv\u001b[0m\u001b[0;34m(\u001b[0m\u001b[0mfile_path\u001b[0m\u001b[0;34m)\u001b[0m\u001b[0;34m\u001b[0m\u001b[0;34m\u001b[0m\u001b[0m\n\u001b[0m\u001b[1;32m      4\u001b[0m \u001b[0;34m\u001b[0m\u001b[0m\n\u001b[1;32m      5\u001b[0m \u001b[0;31m# Display the first few rows and summary information of the dataset\u001b[0m\u001b[0;34m\u001b[0m\u001b[0;34m\u001b[0m\u001b[0m\n",
            "\u001b[0;32m/usr/local/lib/python3.10/dist-packages/pandas/io/parsers/readers.py\u001b[0m in \u001b[0;36mread_csv\u001b[0;34m(filepath_or_buffer, sep, delimiter, header, names, index_col, usecols, dtype, engine, converters, true_values, false_values, skipinitialspace, skiprows, skipfooter, nrows, na_values, keep_default_na, na_filter, verbose, skip_blank_lines, parse_dates, infer_datetime_format, keep_date_col, date_parser, date_format, dayfirst, cache_dates, iterator, chunksize, compression, thousands, decimal, lineterminator, quotechar, quoting, doublequote, escapechar, comment, encoding, encoding_errors, dialect, on_bad_lines, delim_whitespace, low_memory, memory_map, float_precision, storage_options, dtype_backend)\u001b[0m\n\u001b[1;32m    946\u001b[0m     \u001b[0mkwds\u001b[0m\u001b[0;34m.\u001b[0m\u001b[0mupdate\u001b[0m\u001b[0;34m(\u001b[0m\u001b[0mkwds_defaults\u001b[0m\u001b[0;34m)\u001b[0m\u001b[0;34m\u001b[0m\u001b[0;34m\u001b[0m\u001b[0m\n\u001b[1;32m    947\u001b[0m \u001b[0;34m\u001b[0m\u001b[0m\n\u001b[0;32m--> 948\u001b[0;31m     \u001b[0;32mreturn\u001b[0m \u001b[0m_read\u001b[0m\u001b[0;34m(\u001b[0m\u001b[0mfilepath_or_buffer\u001b[0m\u001b[0;34m,\u001b[0m \u001b[0mkwds\u001b[0m\u001b[0;34m)\u001b[0m\u001b[0;34m\u001b[0m\u001b[0;34m\u001b[0m\u001b[0m\n\u001b[0m\u001b[1;32m    949\u001b[0m \u001b[0;34m\u001b[0m\u001b[0m\n\u001b[1;32m    950\u001b[0m \u001b[0;34m\u001b[0m\u001b[0m\n",
            "\u001b[0;32m/usr/local/lib/python3.10/dist-packages/pandas/io/parsers/readers.py\u001b[0m in \u001b[0;36m_read\u001b[0;34m(filepath_or_buffer, kwds)\u001b[0m\n\u001b[1;32m    609\u001b[0m \u001b[0;34m\u001b[0m\u001b[0m\n\u001b[1;32m    610\u001b[0m     \u001b[0;31m# Create the parser.\u001b[0m\u001b[0;34m\u001b[0m\u001b[0;34m\u001b[0m\u001b[0m\n\u001b[0;32m--> 611\u001b[0;31m     \u001b[0mparser\u001b[0m \u001b[0;34m=\u001b[0m \u001b[0mTextFileReader\u001b[0m\u001b[0;34m(\u001b[0m\u001b[0mfilepath_or_buffer\u001b[0m\u001b[0;34m,\u001b[0m \u001b[0;34m**\u001b[0m\u001b[0mkwds\u001b[0m\u001b[0;34m)\u001b[0m\u001b[0;34m\u001b[0m\u001b[0;34m\u001b[0m\u001b[0m\n\u001b[0m\u001b[1;32m    612\u001b[0m \u001b[0;34m\u001b[0m\u001b[0m\n\u001b[1;32m    613\u001b[0m     \u001b[0;32mif\u001b[0m \u001b[0mchunksize\u001b[0m \u001b[0;32mor\u001b[0m \u001b[0miterator\u001b[0m\u001b[0;34m:\u001b[0m\u001b[0;34m\u001b[0m\u001b[0;34m\u001b[0m\u001b[0m\n",
            "\u001b[0;32m/usr/local/lib/python3.10/dist-packages/pandas/io/parsers/readers.py\u001b[0m in \u001b[0;36m__init__\u001b[0;34m(self, f, engine, **kwds)\u001b[0m\n\u001b[1;32m   1446\u001b[0m \u001b[0;34m\u001b[0m\u001b[0m\n\u001b[1;32m   1447\u001b[0m         \u001b[0mself\u001b[0m\u001b[0;34m.\u001b[0m\u001b[0mhandles\u001b[0m\u001b[0;34m:\u001b[0m \u001b[0mIOHandles\u001b[0m \u001b[0;34m|\u001b[0m \u001b[0;32mNone\u001b[0m \u001b[0;34m=\u001b[0m \u001b[0;32mNone\u001b[0m\u001b[0;34m\u001b[0m\u001b[0;34m\u001b[0m\u001b[0m\n\u001b[0;32m-> 1448\u001b[0;31m         \u001b[0mself\u001b[0m\u001b[0;34m.\u001b[0m\u001b[0m_engine\u001b[0m \u001b[0;34m=\u001b[0m \u001b[0mself\u001b[0m\u001b[0;34m.\u001b[0m\u001b[0m_make_engine\u001b[0m\u001b[0;34m(\u001b[0m\u001b[0mf\u001b[0m\u001b[0;34m,\u001b[0m \u001b[0mself\u001b[0m\u001b[0;34m.\u001b[0m\u001b[0mengine\u001b[0m\u001b[0;34m)\u001b[0m\u001b[0;34m\u001b[0m\u001b[0;34m\u001b[0m\u001b[0m\n\u001b[0m\u001b[1;32m   1449\u001b[0m \u001b[0;34m\u001b[0m\u001b[0m\n\u001b[1;32m   1450\u001b[0m     \u001b[0;32mdef\u001b[0m \u001b[0mclose\u001b[0m\u001b[0;34m(\u001b[0m\u001b[0mself\u001b[0m\u001b[0;34m)\u001b[0m \u001b[0;34m->\u001b[0m \u001b[0;32mNone\u001b[0m\u001b[0;34m:\u001b[0m\u001b[0;34m\u001b[0m\u001b[0;34m\u001b[0m\u001b[0m\n",
            "\u001b[0;32m/usr/local/lib/python3.10/dist-packages/pandas/io/parsers/readers.py\u001b[0m in \u001b[0;36m_make_engine\u001b[0;34m(self, f, engine)\u001b[0m\n\u001b[1;32m   1703\u001b[0m                 \u001b[0;32mif\u001b[0m \u001b[0;34m\"b\"\u001b[0m \u001b[0;32mnot\u001b[0m \u001b[0;32min\u001b[0m \u001b[0mmode\u001b[0m\u001b[0;34m:\u001b[0m\u001b[0;34m\u001b[0m\u001b[0;34m\u001b[0m\u001b[0m\n\u001b[1;32m   1704\u001b[0m                     \u001b[0mmode\u001b[0m \u001b[0;34m+=\u001b[0m \u001b[0;34m\"b\"\u001b[0m\u001b[0;34m\u001b[0m\u001b[0;34m\u001b[0m\u001b[0m\n\u001b[0;32m-> 1705\u001b[0;31m             self.handles = get_handle(\n\u001b[0m\u001b[1;32m   1706\u001b[0m                 \u001b[0mf\u001b[0m\u001b[0;34m,\u001b[0m\u001b[0;34m\u001b[0m\u001b[0;34m\u001b[0m\u001b[0m\n\u001b[1;32m   1707\u001b[0m                 \u001b[0mmode\u001b[0m\u001b[0;34m,\u001b[0m\u001b[0;34m\u001b[0m\u001b[0;34m\u001b[0m\u001b[0m\n",
            "\u001b[0;32m/usr/local/lib/python3.10/dist-packages/pandas/io/common.py\u001b[0m in \u001b[0;36mget_handle\u001b[0;34m(path_or_buf, mode, encoding, compression, memory_map, is_text, errors, storage_options)\u001b[0m\n\u001b[1;32m    861\u001b[0m         \u001b[0;32mif\u001b[0m \u001b[0mioargs\u001b[0m\u001b[0;34m.\u001b[0m\u001b[0mencoding\u001b[0m \u001b[0;32mand\u001b[0m \u001b[0;34m\"b\"\u001b[0m \u001b[0;32mnot\u001b[0m \u001b[0;32min\u001b[0m \u001b[0mioargs\u001b[0m\u001b[0;34m.\u001b[0m\u001b[0mmode\u001b[0m\u001b[0;34m:\u001b[0m\u001b[0;34m\u001b[0m\u001b[0;34m\u001b[0m\u001b[0m\n\u001b[1;32m    862\u001b[0m             \u001b[0;31m# Encoding\u001b[0m\u001b[0;34m\u001b[0m\u001b[0;34m\u001b[0m\u001b[0m\n\u001b[0;32m--> 863\u001b[0;31m             handle = open(\n\u001b[0m\u001b[1;32m    864\u001b[0m                 \u001b[0mhandle\u001b[0m\u001b[0;34m,\u001b[0m\u001b[0;34m\u001b[0m\u001b[0;34m\u001b[0m\u001b[0m\n\u001b[1;32m    865\u001b[0m                 \u001b[0mioargs\u001b[0m\u001b[0;34m.\u001b[0m\u001b[0mmode\u001b[0m\u001b[0;34m,\u001b[0m\u001b[0;34m\u001b[0m\u001b[0;34m\u001b[0m\u001b[0m\n",
            "\u001b[0;31mFileNotFoundError\u001b[0m: [Errno 2] No such file or directory: 'PhiUSIIL_Phishing_URL_Dataset.csv'"
          ]
        }
      ]
    },
    {
      "cell_type": "markdown",
      "source": [
        "## Data types of the columns"
      ],
      "metadata": {
        "id": "FHJp_3k7WcW0"
      }
    },
    {
      "cell_type": "code",
      "source": [
        "df.info()"
      ],
      "metadata": {
        "collapsed": true,
        "id": "2-Ag0laKWjL1"
      },
      "execution_count": null,
      "outputs": []
    },
    {
      "cell_type": "markdown",
      "source": [
        "# Panda Configuration"
      ],
      "metadata": {
        "id": "VFY7ET1aJh2q"
      }
    },
    {
      "cell_type": "code",
      "source": [
        "# Set display option to show all columns\n",
        "pd.set_option('display.max_columns', None)"
      ],
      "metadata": {
        "id": "or3uFiNpJgyK"
      },
      "execution_count": null,
      "outputs": []
    },
    {
      "cell_type": "markdown",
      "source": [
        "# Data analysis"
      ],
      "metadata": {
        "id": "Iwe3dk9oI5_z"
      }
    },
    {
      "cell_type": "code",
      "source": [
        "# Show the statistics of the dataset to see it's count, unique, top, freq, mean, std, min, 25%, 50% 75%, max of the datasets.\n",
        "df.describe().T"
      ],
      "metadata": {
        "id": "ZEjDYMXUGjdb"
      },
      "execution_count": null,
      "outputs": []
    },
    {
      "cell_type": "code",
      "source": [
        "# nunique value in columns\n",
        "\n",
        "df.nunique()"
      ],
      "metadata": {
        "collapsed": true,
        "id": "ccb1q2j3msKX"
      },
      "execution_count": null,
      "outputs": []
    },
    {
      "cell_type": "code",
      "source": [
        "df['label'].value_counts().plot(kind='pie',autopct='%1.2f%%')\n",
        "plt.title(\"Phishing Count\")\n",
        "plt.show()"
      ],
      "metadata": {
        "id": "OZX4S1LDnZOH"
      },
      "execution_count": null,
      "outputs": []
    },
    {
      "cell_type": "markdown",
      "source": [
        "# Data Categorization"
      ],
      "metadata": {
        "id": "LfV7T8BdJBk4"
      }
    },
    {
      "cell_type": "markdown",
      "source": [
        "## Find Categorical Columns"
      ],
      "metadata": {
        "id": "wLVw89lL9bqi"
      }
    },
    {
      "cell_type": "code",
      "source": [
        "# Get the list of categorical columns\n",
        "categorical_cols = df.select_dtypes(include=['object']).columns.tolist()\n",
        "\n",
        "# Print the list of categorical columns\n",
        "print(\"Categorical Columns:\")\n",
        "for col in categorical_cols:\n",
        "    print(col)"
      ],
      "metadata": {
        "collapsed": true,
        "id": "UZGFVcbb9jcC"
      },
      "execution_count": null,
      "outputs": []
    },
    {
      "cell_type": "markdown",
      "source": [
        "## Find Numerical Columns"
      ],
      "metadata": {
        "id": "WwnO8XiS-LTY"
      }
    },
    {
      "cell_type": "code",
      "source": [
        "# Get the list of numerical columns\n",
        "numerical_columns = df.select_dtypes(include=['number']).columns.tolist()\n",
        "\n",
        "# Print the list of numerical columns\n",
        "print(\"Numerical Columns:\")\n",
        "for col in numerical_columns:\n",
        "    print(col)"
      ],
      "metadata": {
        "collapsed": true,
        "id": "CQW_d5NC-RP3"
      },
      "execution_count": null,
      "outputs": []
    },
    {
      "cell_type": "markdown",
      "source": [
        "## Find binary columns"
      ],
      "metadata": {
        "id": "elg_cmZ3-43b"
      }
    },
    {
      "cell_type": "code",
      "source": [
        "# Get the list of binary columns\n",
        "binary_columns = binary_columns = [col for col in df.columns if df[col].nunique() == 2]\n",
        "\n",
        "# Print the list of binary columns\n",
        "print(\"Binary Columns:\")\n",
        "for col in binary_columns:\n",
        "    print(col)"
      ],
      "metadata": {
        "collapsed": true,
        "id": "pI0FRDTN-_7S"
      },
      "execution_count": null,
      "outputs": []
    },
    {
      "cell_type": "markdown",
      "source": [
        "# Data Pre-processing"
      ],
      "metadata": {
        "id": "F9AI4jlxKG9K"
      }
    },
    {
      "cell_type": "markdown",
      "source": [
        "## Handling Missing Values"
      ],
      "metadata": {
        "id": "1S0sJorFKZOj"
      }
    },
    {
      "cell_type": "code",
      "source": [
        "# Check for missing values\n",
        "missing_values = df.isnull().sum()\n",
        "\n",
        "display(missing_values)"
      ],
      "metadata": {
        "collapsed": true,
        "id": "z-B6zHUkKa7Z"
      },
      "execution_count": null,
      "outputs": []
    },
    {
      "cell_type": "markdown",
      "source": [
        "## Data Cleaning"
      ],
      "metadata": {
        "id": "N_Up5rFcKv9p"
      }
    },
    {
      "cell_type": "code",
      "source": [
        "# Drop unwated columns\n",
        "columns_to_drop = ['FILENAME', 'URL', 'label', 'Domain', 'Title']\n",
        "\n",
        "for column in columns_to_drop:\n",
        "    if column in df.columns:\n",
        "        df = df.drop(columns=[column])"
      ],
      "metadata": {
        "id": "yMw5wrqRKxBo"
      },
      "execution_count": null,
      "outputs": []
    },
    {
      "cell_type": "code",
      "source": [
        "# Enumerate the values in the \"TLD\" column\n",
        "df['TLD'], tld_enum = pd.factorize(df['TLD'])\n",
        "\n",
        "# Print the enumerated values\n",
        "print(\"Enumerated values for column 'TLD':\")\n",
        "print(df['TLD'])\n",
        "\n",
        "# Print the unique values corresponding to the enumerated values\n",
        "print(\"\\nUnique values corresponding to the enumerated values:\")\n",
        "print(tld_enum)"
      ],
      "metadata": {
        "collapsed": true,
        "id": "P7nec1pdLp2i"
      },
      "execution_count": null,
      "outputs": []
    },
    {
      "cell_type": "code",
      "source": [
        "df.head()"
      ],
      "metadata": {
        "id": "FfV4X9SrMBjz",
        "collapsed": true
      },
      "execution_count": null,
      "outputs": []
    },
    {
      "cell_type": "markdown",
      "source": [
        "### Correlation in table format"
      ],
      "metadata": {
        "id": "-PW7uP1GbdOy"
      }
    },
    {
      "cell_type": "code",
      "source": [
        "# Calculate correlation matrix\n",
        "correlation_matrix = df.corr('pearson')\n",
        "\n",
        "# Plot the correlation matrix in table format\n",
        "correlation_matrix"
      ],
      "metadata": {
        "id": "-ZkDfNe-Hmwm",
        "collapsed": true
      },
      "execution_count": null,
      "outputs": []
    },
    {
      "cell_type": "markdown",
      "source": [
        "## Plot the correlation matrix in graphic format\n"
      ],
      "metadata": {
        "id": "6IV7HVP_bk7J"
      }
    },
    {
      "cell_type": "code",
      "source": [
        "plt.figure(figsize=(15,15))\n",
        "sns.heatmap(data.corr(), annot=True)\n",
        "plt.show()"
      ],
      "metadata": {
        "id": "2Zb2Xpo0LTIc"
      },
      "execution_count": null,
      "outputs": []
    },
    {
      "cell_type": "markdown",
      "source": [
        "## Removing highly correlated features using a correlation matrix*"
      ],
      "metadata": {
        "id": "OmBgqd6FHmRO"
      }
    },
    {
      "cell_type": "code",
      "source": [
        "# Calculate the correlation matrix\n",
        "correlation_matrix = df.corr('pearson')\n",
        "\n",
        "# Set a threshold for correlation\n",
        "threshold = 0.7    # value optimal between 0.7 & 0.9\n",
        "\n",
        "print(\"Removed features:\")\n",
        "\n",
        "# Find pairs of features with correlation greater than the threshold\n",
        "correlated_features = set()\n",
        "for _ in range(4):\n",
        "    correlation_matrix = df.corr('pearson').abs()\n",
        "    for i in range(len(correlation_matrix.columns)):\n",
        "        for j in range(i):\n",
        "            if i != j and abs(correlation_matrix.iloc[i, j]) > threshold:\n",
        "                colname = correlation_matrix.columns[i]\n",
        "                if colname != \"label\":\n",
        "                    correlated_features.add(colname)\n",
        "                    print(colname)\n",
        "    # Remove highly correlated features\n",
        "    # Check if the columns exist in the dataframe before dropping them\n",
        "    existing_columns = [col for col in correlated_features if col in df.columns]\n",
        "    df = df.drop(columns=existing_columns)\n",
        "\n",
        "dfd = df\n",
        "dfknn = df"
      ],
      "metadata": {
        "id": "bsS1fDfgeOUh"
      },
      "execution_count": null,
      "outputs": []
    },
    {
      "cell_type": "markdown",
      "source": [
        "## Result of the data after pre-processing"
      ],
      "metadata": {
        "id": "FsgCa43Hiu8z"
      }
    },
    {
      "cell_type": "markdown",
      "source": [
        "### Number of rows and columns left"
      ],
      "metadata": {
        "id": "ydiP03-akIAU"
      }
    },
    {
      "cell_type": "code",
      "source": [
        "display(f\"Number of rows = {dfd.shape[0]}\")\n",
        "display(f\"Number of columns = {dfd.shape[1]}\")"
      ],
      "metadata": {
        "collapsed": true,
        "id": "AtLRWlP_i5Fd"
      },
      "execution_count": null,
      "outputs": []
    },
    {
      "cell_type": "markdown",
      "source": [
        "### Display of the new dataset after processing"
      ],
      "metadata": {
        "id": "LskK35i0kM81"
      }
    },
    {
      "cell_type": "code",
      "source": [
        "dfd.describe()"
      ],
      "metadata": {
        "collapsed": true,
        "id": "ADV1s4HBkVyF"
      },
      "execution_count": null,
      "outputs": []
    },
    {
      "cell_type": "markdown",
      "source": [
        "# Model Building & Training"
      ],
      "metadata": {
        "id": "pEB3ZGKen386"
      }
    },
    {
      "cell_type": "code",
      "source": [],
      "metadata": {
        "id": "Blswv4vVn5Yu"
      },
      "execution_count": null,
      "outputs": []
    }
  ]
}